{
 "cells": [
  {
   "cell_type": "code",
   "execution_count": 3,
   "metadata": {},
   "outputs": [],
   "source": [
    "import numpy as np\n",
    "import pandas as pd\n",
    "import matplotlib.pyplot as plt\n",
    "\n",
    "from pyquorra.platemap import PlatemapList, WellPosition, PlatemapSize#, PlatemapClient\n",
    "\n",
    "import os\n",
    "os.chdir(\"C:/Users/bvogler/repos/research-and-analysis\")\n",
    "\n",
    "from lunatic import LunaticParser, unpack_annotations\n",
    "from util import PALETTE\n",
    "\n",
    "\n",
    "file_plate_pairings = {\n",
    "    # \"lunatic/data/2024-12-13_143852_401155_LUNA_2024-12-13_MicroBCA.xlsx\"\n",
    "    # \"lunatic/data/2024-12-17_164941_401155_LUNA_2024-12-17_MicroBCA_left.xlsx\"\n",
    "    # \"lunatic/data/2024-12-17_170553_401155_LUNA_2024-12-17_MicroBCA_right.xlsx\"\n",
    "    # \"lunatic/data/2025-01-15_144936_401155_LUNA_uBCA.xlsx\"\n",
    "    # \"lunatic/data/2025-01-15_161155_401155_LUNA_uBCA.xlsx\"\n",
    "    # \"G0033171\": \"lunatic/data/2025-01-21_112225_401155_LUNA.xlsx\",\n",
    "    # \"G0033294\": \"lunatic/data/2025-01-24_171715_401155_LUNA_2025-01-24_Micro_BCA.xlsx\",\n",
    "    \"G0033355\": \"lunatic/data/2025-01-28_162443_401155_LUNA_2025-01-28_Micro_BCA.xlsx\",\n",
    "    # \"G0033458\": \"lunatic/data/2025-01-30_124501_401155_LUNA.xlsx\",\n",
    "}"
   ]
  },
  {
   "cell_type": "code",
   "execution_count": 4,
   "metadata": {},
   "outputs": [],
   "source": [
    "lunatic_parser = LunaticParser()\n",
    "parsed_data = {\n",
    "    plate_id: lunatic_parser.parse(file_path)\n",
    "    for plate_id, file_path in file_plate_pairings.items()\n",
    "}\n",
    "\n",
    "lunatic_data = {\n",
    "    plate_id: unpack_annotations(\n",
    "        pd.concat(\n",
    "            [pd.DataFrame(plate.wells) for plate in plate_data.plates]\n",
    "        )  # Note: there is only ever one plate\n",
    "    )\n",
    "    for plate_id, plate_data in parsed_data.items()\n",
    "}"
   ]
  },
  {
   "cell_type": "code",
   "execution_count": 3,
   "metadata": {},
   "outputs": [],
   "source": [
    "# platemaps = PlatemapList.from_quorra(list(lunatic_data.keys()))\n",
    "# platemap_data = {\n",
    "#     platemap.id: unpack_annotations(pd.DataFrame(platemap.well_records))\n",
    "#     for platemap in platemaps\n",
    "# }"
   ]
  },
  {
   "cell_type": "code",
   "execution_count": 5,
   "metadata": {},
   "outputs": [],
   "source": [
    "platemap_size = PlatemapSize.WELLS_96\n",
    "platemap_data = pd.DataFrame(platemap_size.get_well_positions())\n",
    "platemap_data[\"well\"] = [str(WellPosition(row, col)) for row, col in zip(platemap_data[\"row\"], platemap_data[\"column\"])]\n",
    "platemap_data[\"control\"] = None\n",
    "platemap_data= {\"G0033355\": platemap_data}"
   ]
  },
  {
   "cell_type": "code",
   "execution_count": 6,
   "metadata": {},
   "outputs": [],
   "source": [
    "data = pd.concat(\n",
    "    [\n",
    "        pd.merge(\n",
    "            lunatic_data[plate_id],\n",
    "            platemap_data[plate_id],\n",
    "            left_on=[\"row\", \"column\"],\n",
    "            right_on=[\"row\", \"column\"],\n",
    "            how=\"inner\",\n",
    "        )\n",
    "        for plate_id in file_plate_pairings.keys()\n",
    "    ]\n",
    ")\n",
    "\n",
    "# add mean of columns A555-569 and A642-664\n",
    "data = data.assign(\n",
    "    mean_560=lambda x: x.loc[:, \"555\":\"569\"].mean(axis=1),\n",
    "    mean_655=lambda x: x.loc[:, \"642\":\"664\"].mean(axis=1),\n",
    "    difference=lambda x: x[\"mean_560\"] - x[\"mean_655\"],\n",
    ")\n",
    "data.to_csv(\"lunatic/data/2025-01-28_162443_401155_LUNA_2025-01-28_Micro_BCA.csv\", index=False)"
   ]
  },
  {
   "cell_type": "code",
   "execution_count": 7,
   "metadata": {},
   "outputs": [],
   "source": [
    "# set \"control\" to \"standard\" for wells E1:H6, and the rest to None\n",
    "data[\"control\"] = np.where(\n",
    "    (data[\"row\"]>3) & (data[\"column\"].isin(range(1, 7))),\n",
    "    \"standard\",\n",
    "    data[\"control\"],\n",
    ")"
   ]
  },
  {
   "cell_type": "code",
   "execution_count": 8,
   "metadata": {},
   "outputs": [],
   "source": [
    "\n",
    "def get_limit_of_quantitation(\n",
    "    df: pd.DataFrame, signal_column: str = \"difference\"\n",
    ") -> float:\n",
    "    \"\"\"Calculate the limit of quantitation for a given dataframe.\"\"\"\n",
    "    blanks = df[df[\"control\"] == \"blank\"]\n",
    "    if blanks.empty:\n",
    "        blanks = df[(df[\"control\"] == \"standard\") & (df[\"concentration\"] == 0)]\n",
    "    return blanks[signal_column].mean() + 10 * blanks[signal_column].std()\n",
    "\n",
    "\n",
    "calibration_data = data[data[\"control\"].isin([\"standard\", \"blank\"])]\n"
   ]
  },
  {
   "cell_type": "code",
   "execution_count": null,
   "metadata": {},
   "outputs": [
    {
     "ename": "NameError",
     "evalue": "name 'calibration_data' is not defined",
     "output_type": "error",
     "traceback": [
      "\u001b[1;31m---------------------------------------------------------------------------\u001b[0m",
      "\u001b[1;31mNameError\u001b[0m                                 Traceback (most recent call last)",
      "Cell \u001b[1;32mIn[22], line 1\u001b[0m\n\u001b[1;32m----> 1\u001b[0m calibration_data[\u001b[38;5;124m\"\u001b[39m\u001b[38;5;124mdilution_no\u001b[39m\u001b[38;5;124m\"\u001b[39m]\n",
      "\u001b[1;31mNameError\u001b[0m: name 'calibration_data' is not defined"
     ]
    }
   ],
   "source": [
    "# dilution number goes\n",
    "calibration_data[\"dilution_no\"] "
   ]
  },
  {
   "cell_type": "code",
   "execution_count": null,
   "metadata": {},
   "outputs": [],
   "source": [
    "\n",
    "limit_of_quantitation_signal = get_limit_of_quantitation(calibration_data)\n"
   ]
  }
 ],
 "metadata": {
  "kernelspec": {
   "display_name": "Python 3",
   "language": "python",
   "name": "python3"
  },
  "language_info": {
   "codemirror_mode": {
    "name": "ipython",
    "version": 3
   },
   "file_extension": ".py",
   "mimetype": "text/x-python",
   "name": "python",
   "nbconvert_exporter": "python",
   "pygments_lexer": "ipython3",
   "version": "3.12.7"
  }
 },
 "nbformat": 4,
 "nbformat_minor": 2
}
